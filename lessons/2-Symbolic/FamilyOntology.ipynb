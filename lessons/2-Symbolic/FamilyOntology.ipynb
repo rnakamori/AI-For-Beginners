{
  "cells": [
    {
      "cell_type": "markdown",
      "metadata": {
        "collapsed": true
      },
      "source": [
        "# Family Relationships Ontology\n",
        "\n",
        "This example is a part of [AI for Beginners Curriculum](http://github.com/microsoft/ai-for-beginners), and it has been inspired by [this blog post](https://habr.com/post/270857/).\n",
        "\n",
        "I always find it difficult to remember different relationships between people in a family. In this example, we will take an ontology that defines family relationships, and the actual genealogical tree, and show how we can then perform automatic inference to find all relatives.\n",
        "\n",
        "### Getting the Genealogical Tree\n",
        "\n",
        "As an example, we will take genealogical tree of [Romanov Tsar Family](https://en.wikipedia.org/wiki/House_of_Romanov). The most common format for describing family relationships is [GEDCOM](https://en.wikipedia.org/wiki/GEDCOM). We will take Romanov family tree in GEDCOM format:"
      ]
    },
    {
      "cell_type": "code",
      "execution_count": 15,
      "metadata": {
        "trusted": true
      },
      "outputs": [
        {
          "name": "stderr",
          "output_type": "stream",
          "text": [
            "'head' �́A�����R�}���h�܂��͊O���R�}���h�A\n",
            "����\\�ȃv���O�����܂��̓o�b�` �t�@�C���Ƃ��ĔF������Ă��܂���B\n"
          ]
        }
      ],
      "source": [
        "!head -15 data/tsars.ged"
      ]
    },
    {
      "cell_type": "markdown",
      "metadata": {},
      "source": [
        "To use GEDCOM file, we can use `python-gedcom` library:"
      ]
    },
    {
      "cell_type": "code",
      "execution_count": 16,
      "metadata": {
        "trusted": true
      },
      "outputs": [
        {
          "name": "stdout",
          "output_type": "stream",
          "text": [
            "Requirement already satisfied: python-gedcom in c:\\users\\nakam\\miniconda3\\envs\\ai4beg\\lib\\site-packages (1.0.0)\n"
          ]
        }
      ],
      "source": [
        "import sys\n",
        "!{sys.executable} -m pip install python-gedcom"
      ]
    },
    {
      "cell_type": "markdown",
      "metadata": {},
      "source": [
        "This library takes away some of the technical problems with file parsing, but it still gives us pretty low-level access to all individuals and families in the tree. Here is how we can parse the file, and show the list of all individuals:"
      ]
    },
    {
      "cell_type": "code",
      "execution_count": 17,
      "metadata": {
        "trusted": true
      },
      "outputs": [],
      "source": [
        "from gedcom.parser import Parser\n",
        "from gedcom.element.individual import IndividualElement\n",
        "from gedcom.element.family import FamilyElement\n",
        "g = Parser()\n",
        "g.parse_file('data/tsars.ged')"
      ]
    },
    {
      "cell_type": "code",
      "execution_count": 18,
      "metadata": {
        "scrolled": true,
        "trusted": true
      },
      "outputs": [
        {
          "data": {
            "text/plain": [
              "[('@0@', ('Mihail Fedorovich', 'Romanov')),\n",
              " ('@1@', ('Evdokija Lukjanovna', 'Streshneva')),\n",
              " ('@2@', ('Aleksej Mihajlovich', 'Romanov')),\n",
              " ('@3@', ('Marija Ilinichna', 'Miloslavskaja')),\n",
              " ('@4@', ('Natalja Kirillovna', 'Naryshkina')),\n",
              " ('@5@', ('Marfa Matveevna', 'Apraksina')),\n",
              " ('@6@', ('Fedor Alekseevich', 'Romanov')),\n",
              " ('@7@', ('Sofja Aleksevna', 'Romanova')),\n",
              " ('@8@', ('Ivan V Alekseevich', 'Romanov')),\n",
              " ('@9@', ('Praskovja Fedorovna', 'Saltykova')),\n",
              " ('@10@', ('Ekaterina Ivanovna', 'Romanova')),\n",
              " ('@11@', ('Anna Ivanovna', 'Romanova')),\n",
              " ('@12@', ('Fridrih Vilgelm', 'Kurlandskij')),\n",
              " ('@13@', ('Karl Leopold', 'Meklenburg-Shverinskij')),\n",
              " ('@14@', ('Anna Leopoldovna', 'Meklenburg-Shverinskaja')),\n",
              " ('@15@', ('Anton Ulrih', 'Braunshvejg-Volfenbjuttelskij')),\n",
              " ('@16@', ('Ivan VI Antonovich', 'Braunshvejg-Volfenbjuttelskij')),\n",
              " ('@17@', ('Petr I Alekseevich', 'Romanov')),\n",
              " ('@18@', ('Evdokija Fedorovna', 'Lopuhina')),\n",
              " ('@19@', ('Ekaterina I Alekseevna', 'Mihajlova')),\n",
              " ('@20@', ('Aleksej Petrovich', 'Romanov')),\n",
              " ('@21@', ('Sharlotta Kristina', 'Braunshvejg-Volfenbjuttelskaja')),\n",
              " ('@22@', ('Petr II Alekseevich', 'Romanov')),\n",
              " ('@23@', ('Anna Petrovna', 'Romanova')),\n",
              " ('@24@', ('Elizaveta Petrovna', 'Romanova')),\n",
              " ('@25@', ('Karl Fridrih', 'Golshtejn-Gottorpskij')),\n",
              " ('@26@', ('Petr III Fedorovich', 'Romanov')),\n",
              " ('@27@', ('Ekaterina II', 'Alekseevna')),\n",
              " ('@28@', ('Pavel I Petrovich', 'Romanov')),\n",
              " ('@29@', ('Natalja Alekseevna', 'Gessen-Darmshtadskaja')),\n",
              " ('@30@', ('Marija Fedorovna', 'Vjurtembergskaja')),\n",
              " ('@31@', ('Aleksandr I Pavlovich', 'Romanov')),\n",
              " ('@32@', ('Elizaveta Alekseevna', 'Baden-Durlahskaja')),\n",
              " ('@33@', ('Nikolaj I Pavlovich', 'Romanov')),\n",
              " ('@34@', ('Aleksandra Fedorovna', 'Prusskaja')),\n",
              " ('@35@', ('Aleksandr II Nikolaevich', 'Romanov')),\n",
              " ('@36@', ('Marija Aleksandrovna', 'Gessenskaja')),\n",
              " ('@37@', ('Aleksandr III Aleksandrovich', 'Romanov')),\n",
              " ('@38@', ('Marija Fedorovna', 'Datskaja')),\n",
              " ('@39@', ('Nikolaj II Aleksandrovich', 'Romanov')),\n",
              " ('@40@', ('Aleksandra Fedorovna', 'Gessenskaja'))]"
            ]
          },
          "execution_count": 18,
          "metadata": {},
          "output_type": "execute_result"
        }
      ],
      "source": [
        "d = g.get_element_dictionary()\n",
        "[ (k,v.get_name()) for k,v in d.items() if isinstance(v,IndividualElement)]"
      ]
    },
    {
      "cell_type": "markdown",
      "metadata": {},
      "source": [
        "Here is how we can get information about families. Note that is gives us a list of **identifiers**, and we need to convert them to names if we want more clarity:"
      ]
    },
    {
      "cell_type": "code",
      "execution_count": 19,
      "metadata": {},
      "outputs": [
        {
          "data": {
            "text/plain": [
              "[('@41@', ['@0@', '@1@', '@2@']),\n",
              " ('@42@', ['@2@', '@3@', '@6@', '@7@', '@8@']),\n",
              " ('@43@', ['@8@', '@9@', '@10@', '@11@']),\n",
              " ('@44@', ['@13@', '@10@', '@14@']),\n",
              " ('@45@', ['@15@', '@14@', '@16@']),\n",
              " ('@46@', ['@2@', '@4@', '@17@']),\n",
              " ('@47@', ['@17@', '@18@', '@20@']),\n",
              " ('@48@', ['@20@', '@21@', '@22@']),\n",
              " ('@49@', ['@17@', '@19@', '@23@', '@24@']),\n",
              " ('@50@', ['@25@', '@23@', '@26@']),\n",
              " ('@51@', ['@26@', '@27@', '@28@']),\n",
              " ('@52@', ['@28@', '@30@', '@31@', '@33@']),\n",
              " ('@53@', ['@33@', '@34@', '@35@']),\n",
              " ('@54@', ['@35@', '@36@', '@37@']),\n",
              " ('@55@', ['@37@', '@38@', '@39@'])]"
            ]
          },
          "execution_count": 19,
          "metadata": {},
          "output_type": "execute_result"
        }
      ],
      "source": [
        "d = g.get_element_dictionary()\n",
        "[ (k,[x.get_value() for x in v.get_child_elements()]) for k,v in d.items() if isinstance(v,FamilyElement)]"
      ]
    },
    {
      "cell_type": "markdown",
      "metadata": {},
      "source": [
        "### Getting Family Ontology\n",
        "\n",
        "Next, let's have a look at [family ontology](https://raw.githubusercontent.com/blokhin/genealogical-trees/master/data/header.ttl) defined as a set of Semantic Web triplets. This ontology defines such relationships as `isUncleOf`, `isCousinOf`, and many others. All those relationships are defined in terms of basic predicates `isMotherOf`, `isFatherOf`, `isBrotherOf` and `isSisterOf`. We will use automatic reasoning to deduce all other relationships using the ontology.\n",
        "\n",
        "Here is a sample definition of `isAuntOf` property, which is defined as a composition of `isSisterOf` and `isParentOf` (*Aunt is a sister of one's parent*).\n",
        "\n",
        "```\n",
        "fhkb:isAuntOf a owl:ObjectProperty ;\n",
        "    rdfs:domain fhkb:Woman ;\n",
        "    rdfs:range fhkb:Person ;\n",
        "    owl:propertyChainAxiom ( fhkb:isSisterOf fhkb:isParentOf ) .\n",
        "```"
      ]
    },
    {
      "cell_type": "code",
      "execution_count": 20,
      "metadata": {
        "trusted": true
      },
      "outputs": [
        {
          "name": "stderr",
          "output_type": "stream",
          "text": [
            "'head' �́A�����R�}���h�܂��͊O���R�}���h�A\n",
            "����\\�ȃv���O�����܂��̓o�b�` �t�@�C���Ƃ��ĔF������Ă��܂���B\n"
          ]
        }
      ],
      "source": [
        "!head -20 data/onto.ttl"
      ]
    },
    {
      "cell_type": "markdown",
      "metadata": {},
      "source": [
        "### Constructing Ontology for Inference\n",
        "\n",
        "For simplicity, we will create one ontology file that will include original rules from family ontology, and facts about individuals from our GEDCOM file. We will go through the GEDCOM file and extract information about families and individuals, and convert them to triplets."
      ]
    },
    {
      "cell_type": "code",
      "execution_count": 21,
      "metadata": {
        "trusted": true
      },
      "outputs": [
        {
          "name": "stderr",
          "output_type": "stream",
          "text": [
            "'cp' �́A�����R�}���h�܂��͊O���R�}���h�A\n",
            "����\\�ȃv���O�����܂��̓o�b�` �t�@�C���Ƃ��ĔF������Ă��܂���B\n"
          ]
        }
      ],
      "source": [
        "!cp data/onto.ttl .\n",
        "\n",
        "gedcom_dict = g.get_element_dictionary()\n",
        "individuals, marriages = {}, {}\n",
        "\n",
        "def term2id(el):\n",
        "    return \"i\" + el.get_pointer().replace('@', '').lower()\n",
        "\n",
        "out = open(\"onto.ttl\",\"a\")\n",
        "\n",
        "for k, v in gedcom_dict.items():\n",
        "    if isinstance(v,IndividualElement):\n",
        "        children, siblings = set(), set()\n",
        "        idx = term2id(v)\n",
        "\n",
        "        title = v.get_name()[0] + \" \" + v.get_name()[1]\n",
        "        title = title.replace('\"', '').replace('[', '').replace(']', '').replace('(', '').replace(')', '').strip()\n",
        "\n",
        "        own_families = g.get_families(v, 'FAMS')\n",
        "        for fam in own_families:\n",
        "            children |= set(term2id(i) for i in g.get_family_members(fam, \"CHIL\"))\n",
        "\n",
        "        parent_families = g.get_families(v, 'FAMC')\n",
        "        if len(parent_families):\n",
        "            for member in g.get_family_members(parent_families[0], \"CHIL\"): # NB adoptive families i.e len(parent_families)>1 are not considered (TODO?)\n",
        "                if member.get_pointer() == v.get_pointer():\n",
        "                    continue\n",
        "                siblings.add(term2id(member))\n",
        "\n",
        "        if idx in individuals:\n",
        "            children |= individuals[idx].get('children', set())\n",
        "            siblings |= individuals[idx].get('siblings', set())\n",
        "        individuals[idx] = {'sex': v.get_gender().lower(), 'children': children, 'siblings': siblings, 'title': title}\n",
        "\n",
        "    elif isinstance(v,FamilyElement):\n",
        "        wife, husb, children = None, None, set()\n",
        "        children = set(term2id(i) for i in g.get_family_members(v, \"CHIL\"))\n",
        "\n",
        "        try:\n",
        "            wife = g.get_family_members(v, \"WIFE\")[0]\n",
        "            wife = term2id(wife)\n",
        "            if wife in individuals: individuals[wife]['children'] |= children\n",
        "            else: individuals[wife] = {'children': children}\n",
        "        except IndexError: pass\n",
        "        try:\n",
        "            husb = g.get_family_members(v, \"HUSB\")[0]\n",
        "            husb = term2id(husb)\n",
        "            if husb in individuals: individuals[husb]['children'] |= children\n",
        "            else: individuals[husb] = {'children': children}\n",
        "        except IndexError: pass\n",
        "\n",
        "        if wife and husb: marriages[wife + husb] = (term2id(v), wife, husb)\n",
        "\n",
        "for idx, val in individuals.items():\n",
        "    added_terms = ''\n",
        "    if val['sex'] == 'f':\n",
        "        parent_predicate, sibl_predicate = \"isMotherOf\", \"isSisterOf\"\n",
        "    else:\n",
        "        parent_predicate, sibl_predicate = \"isFatherOf\", \"isBrotherOf\"\n",
        "    if len(val['children']):\n",
        "        added_terms += \" ;\\n    fhkb:\" + parent_predicate + \" \" + \", \".join([\"fhkb:\" + i for i in val['children']])\n",
        "    if len(val['siblings']):\n",
        "        added_terms += \" ;\\n    fhkb:\" + sibl_predicate + \" \" + \", \".join([\"fhkb:\" + i for i in val['siblings']])\n",
        "    out.write(\"fhkb:%s a owl:NamedIndividual, owl:Thing%s ;\\n    rdfs:label \\\"%s\\\" .\\n\" % (idx, added_terms, val['title']))\n",
        "\n",
        "for k, v in marriages.items():\n",
        "    out.write(\"fhkb:%s a owl:NamedIndividual, owl:Thing ;\\n    fhkb:hasFemalePartner fhkb:%s ;\\n    fhkb:hasMalePartner fhkb:%s .\\n\" % v)\n",
        "\n",
        "out.write(\"[] a owl:AllDifferent ;\\n    owl:distinctMembers (\")\n",
        "for idx in individuals.keys():\n",
        "    out.write(\"    fhkb:\" + idx)\n",
        "for k, v in marriages.items():\n",
        "    out.write(\"    fhkb:\" + v[0])\n",
        "out.write(\"    ) .\")\n",
        "out.close()"
      ]
    },
    {
      "cell_type": "code",
      "execution_count": 22,
      "metadata": {
        "trusted": true
      },
      "outputs": [
        {
          "name": "stderr",
          "output_type": "stream",
          "text": [
            "'tail' �́A�����R�}���h�܂��͊O���R�}���h�A\n",
            "����\\�ȃv���O�����܂��̓o�b�` �t�@�C���Ƃ��ĔF������Ă��܂���B\n"
          ]
        }
      ],
      "source": [
        "!tail onto.ttl"
      ]
    },
    {
      "cell_type": "markdown",
      "metadata": {},
      "source": [
        "### Doing Inference \n",
        "\n",
        "Now we want to be able to use this ontology for inference and for querying. We will use [RDFLib](https://github.com/RDFLib), library for reading RDF Graph in different formats, querying it, etc. \n",
        "\n",
        "For logical inference, we will use [OWL-RL](https://github.com/RDFLib/OWL-RL) library, which allows us to build **Closure** of the RDF Graph, i.e. add all possible concepts and relations that can be inferred."
      ]
    },
    {
      "cell_type": "code",
      "execution_count": 23,
      "metadata": {
        "trusted": true
      },
      "outputs": [
        {
          "name": "stdout",
          "output_type": "stream",
          "text": [
            "Requirement already satisfied: rdflib in c:\\users\\nakam\\miniconda3\\envs\\ai4beg\\lib\\site-packages (7.1.3)\n",
            "Requirement already satisfied: pyparsing<4,>=2.1.0 in c:\\users\\nakam\\miniconda3\\envs\\ai4beg\\lib\\site-packages (from rdflib) (3.2.0)\n",
            "Collecting git+https://github.com/RDFLib/OWL-RL.git\n",
            "  Cloning https://github.com/RDFLib/OWL-RL.git to c:\\users\\nakam\\appdata\\local\\temp\\pip-req-build-owu9jwk4\n",
            "  Resolved https://github.com/RDFLib/OWL-RL.git to commit 165ab4337b9024bee55cae2d9591bd02be19768e\n",
            "  Installing build dependencies: started\n",
            "  Installing build dependencies: finished with status 'done'\n",
            "  Getting requirements to build wheel: started\n",
            "  Getting requirements to build wheel: finished with status 'done'\n",
            "  Preparing metadata (pyproject.toml): started\n",
            "  Preparing metadata (pyproject.toml): finished with status 'done'\n",
            "Requirement already satisfied: rdflib>=7.1.3 in c:\\users\\nakam\\miniconda3\\envs\\ai4beg\\lib\\site-packages (from owlrl==7.1.3) (7.1.3)\n",
            "Requirement already satisfied: pyparsing<4,>=2.1.0 in c:\\users\\nakam\\miniconda3\\envs\\ai4beg\\lib\\site-packages (from rdflib>=7.1.3->owlrl==7.1.3) (3.2.0)\n"
          ]
        },
        {
          "name": "stderr",
          "output_type": "stream",
          "text": [
            "  Running command git clone --filter=blob:none --quiet https://github.com/RDFLib/OWL-RL.git 'C:\\Users\\nakam\\AppData\\Local\\Temp\\pip-req-build-owu9jwk4'\n"
          ]
        }
      ],
      "source": [
        "!{sys.executable} -m pip install rdflib\n",
        "!{sys.executable} -m pip install git+https://github.com/RDFLib/OWL-RL.git"
      ]
    },
    {
      "cell_type": "markdown",
      "metadata": {},
      "source": [
        "Let's open the ontology file and see how many triplets it contains:"
      ]
    },
    {
      "cell_type": "code",
      "execution_count": 25,
      "metadata": {
        "trusted": true
      },
      "outputs": [
        {
          "ename": "BadSyntax",
          "evalue": "at line 1 of <>:\nBad syntax (Prefix \"fhkb:\" not bound) at ^ in:\n\"b''^b'fhkb:i0 a owl:NamedIndividual, owl:Thing ;\\r\\n    fhkb:isFathe'...\"",
          "output_type": "error",
          "traceback": [
            "Traceback \u001b[1;36m(most recent call last)\u001b[0m:\n",
            "\u001b[1;36m  File \u001b[1;32mc:\\Users\\nakam\\miniconda3\\envs\\ai4beg\\Lib\\site-packages\\rdflib\\plugins\\parsers\\notation3.py:1232\u001b[1;36m in \u001b[1;35muri_ref2\u001b[1;36m\n\u001b[1;33m    ns = self._bindings[pfx]\u001b[1;36m\n",
            "\u001b[1;31mKeyError\u001b[0m\u001b[1;31m:\u001b[0m 'fhkb'\n",
            "\nDuring handling of the above exception, another exception occurred:\n",
            "Traceback \u001b[1;36m(most recent call last)\u001b[0m:\n",
            "\u001b[0m  File \u001b[0;32mc:\\Users\\nakam\\miniconda3\\envs\\ai4beg\\Lib\\site-packages\\IPython\\core\\interactiveshell.py:3577\u001b[0m in \u001b[0;35mrun_code\u001b[0m\n    exec(code_obj, self.user_global_ns, self.user_ns)\u001b[0m\n",
            "\u001b[0m  Cell \u001b[0;32mIn[25], line 5\u001b[0m\n    g.parse(\"onto.ttl\", format=\"turtle\")\u001b[0m\n",
            "\u001b[0m  File \u001b[0;32mc:\\Users\\nakam\\miniconda3\\envs\\ai4beg\\Lib\\site-packages\\rdflib\\graph.py:1551\u001b[0m in \u001b[0;35mparse\u001b[0m\n    raise se\u001b[0m\n",
            "\u001b[0m  File \u001b[0;32mc:\\Users\\nakam\\miniconda3\\envs\\ai4beg\\Lib\\site-packages\\rdflib\\graph.py:1542\u001b[0m in \u001b[0;35mparse\u001b[0m\n    parser.parse(source, self, **args)\u001b[0m\n",
            "\u001b[0m  File \u001b[0;32mc:\\Users\\nakam\\miniconda3\\envs\\ai4beg\\Lib\\site-packages\\rdflib\\plugins\\parsers\\notation3.py:2020\u001b[0m in \u001b[0;35mparse\u001b[0m\n    p.loadStream(stream)\u001b[0m\n",
            "\u001b[0m  File \u001b[0;32mc:\\Users\\nakam\\miniconda3\\envs\\ai4beg\\Lib\\site-packages\\rdflib\\plugins\\parsers\\notation3.py:479\u001b[0m in \u001b[0;35mloadStream\u001b[0m\n    return self.loadBuf(stream.read())  # Not ideal\u001b[0m\n",
            "\u001b[0m  File \u001b[0;32mc:\\Users\\nakam\\miniconda3\\envs\\ai4beg\\Lib\\site-packages\\rdflib\\plugins\\parsers\\notation3.py:485\u001b[0m in \u001b[0;35mloadBuf\u001b[0m\n    self.feed(buf)\u001b[0m\n",
            "\u001b[0m  File \u001b[0;32mc:\\Users\\nakam\\miniconda3\\envs\\ai4beg\\Lib\\site-packages\\rdflib\\plugins\\parsers\\notation3.py:511\u001b[0m in \u001b[0;35mfeed\u001b[0m\n    i = self.directiveOrStatement(s, j)\u001b[0m\n",
            "\u001b[0m  File \u001b[0;32mc:\\Users\\nakam\\miniconda3\\envs\\ai4beg\\Lib\\site-packages\\rdflib\\plugins\\parsers\\notation3.py:530\u001b[0m in \u001b[0;35mdirectiveOrStatement\u001b[0m\n    j = self.statement(argstr, i)\u001b[0m\n",
            "\u001b[0m  File \u001b[0;32mc:\\Users\\nakam\\miniconda3\\envs\\ai4beg\\Lib\\site-packages\\rdflib\\plugins\\parsers\\notation3.py:774\u001b[0m in \u001b[0;35mstatement\u001b[0m\n    i = self.object(argstr, i, r)  # Allow literal for subject - extends RDF\u001b[0m\n",
            "\u001b[0m  File \u001b[0;32mc:\\Users\\nakam\\miniconda3\\envs\\ai4beg\\Lib\\site-packages\\rdflib\\plugins\\parsers\\notation3.py:1487\u001b[0m in \u001b[0;35mobject\u001b[0m\n    j = self.subject(argstr, i, res)\u001b[0m\n",
            "\u001b[0m  File \u001b[0;32mc:\\Users\\nakam\\miniconda3\\envs\\ai4beg\\Lib\\site-packages\\rdflib\\plugins\\parsers\\notation3.py:785\u001b[0m in \u001b[0;35msubject\u001b[0m\n    return self.item(argstr, i, res)\u001b[0m\n",
            "\u001b[0m  File \u001b[0;32mc:\\Users\\nakam\\miniconda3\\envs\\ai4beg\\Lib\\site-packages\\rdflib\\plugins\\parsers\\notation3.py:877\u001b[0m in \u001b[0;35mitem\u001b[0m\n    return self.path(argstr, i, res)\u001b[0m\n",
            "\u001b[0m  File \u001b[0;32mc:\\Users\\nakam\\miniconda3\\envs\\ai4beg\\Lib\\site-packages\\rdflib\\plugins\\parsers\\notation3.py:884\u001b[0m in \u001b[0;35mpath\u001b[0m\n    j = self.nodeOrLiteral(argstr, i, res)\u001b[0m\n",
            "\u001b[0m  File \u001b[0;32mc:\\Users\\nakam\\miniconda3\\envs\\ai4beg\\Lib\\site-packages\\rdflib\\plugins\\parsers\\notation3.py:1515\u001b[0m in \u001b[0;35mnodeOrLiteral\u001b[0m\n    j = self.node(argstr, i, res)\u001b[0m\n",
            "\u001b[0m  File \u001b[0;32mc:\\Users\\nakam\\miniconda3\\envs\\ai4beg\\Lib\\site-packages\\rdflib\\plugins\\parsers\\notation3.py:1102\u001b[0m in \u001b[0;35mnode\u001b[0m\n    j = self.uri_ref2(argstr, i, res)\u001b[0m\n",
            "\u001b[0m  File \u001b[0;32mc:\\Users\\nakam\\miniconda3\\envs\\ai4beg\\Lib\\site-packages\\rdflib\\plugins\\parsers\\notation3.py:1240\u001b[0m in \u001b[0;35muri_ref2\u001b[0m\n    self.BadSyntax(argstr, i, 'Prefix \"%s:\" not bound' % (pfx))\u001b[0m\n",
            "\u001b[1;36m  File \u001b[1;32mc:\\Users\\nakam\\miniconda3\\envs\\ai4beg\\Lib\\site-packages\\rdflib\\plugins\\parsers\\notation3.py:1730\u001b[1;36m in \u001b[1;35mBadSyntax\u001b[1;36m\n\u001b[1;33m    raise BadSyntax(self._thisDoc, self.lines, argstr, i, msg)\u001b[1;36m\n",
            "\u001b[1;36m  File \u001b[1;32m<string>\u001b[1;36m\u001b[0m\n\u001b[1;31mBadSyntax\u001b[0m\n"
          ]
        }
      ],
      "source": [
        "import rdflib\n",
        "from owlrl import DeductiveClosure, OWLRL_Extension\n",
        "\n",
        "g = rdflib.Graph()\n",
        "g.parse(\"onto.ttl\", format=\"turtle\")\n",
        "\n",
        "print(\"Triplets found:%d\" % len(g))"
      ]
    },
    {
      "cell_type": "markdown",
      "metadata": {},
      "source": [
        "Now let's build the closure, and see how the number of triplets increase:"
      ]
    },
    {
      "cell_type": "code",
      "execution_count": 26,
      "metadata": {
        "trusted": true
      },
      "outputs": [
        {
          "name": "stdout",
          "output_type": "stream",
          "text": [
            "Triplets after inference:163\n"
          ]
        }
      ],
      "source": [
        "DeductiveClosure(OWLRL_Extension).expand(g)\n",
        "print(\"Triplets after inference:%d\" % len(g))"
      ]
    },
    {
      "cell_type": "markdown",
      "metadata": {},
      "source": [
        "### Querying for Relatives \n",
        "\n",
        "Now we can query the graph to see different relations between people. We can use **SPARQL** language together with `query` method. In our case, let's see all **uncles** in our family tree:"
      ]
    },
    {
      "cell_type": "code",
      "execution_count": 27,
      "metadata": {
        "trusted": true
      },
      "outputs": [
        {
          "ename": "Exception",
          "evalue": "Unknown namespace prefix : fhkb",
          "output_type": "error",
          "traceback": [
            "\u001b[1;31m---------------------------------------------------------------------------\u001b[0m",
            "\u001b[1;31mException\u001b[0m                                 Traceback (most recent call last)",
            "Cell \u001b[1;32mIn[27], line 1\u001b[0m\n\u001b[1;32m----> 1\u001b[0m qres \u001b[38;5;241m=\u001b[39m g\u001b[38;5;241m.\u001b[39mquery(\n\u001b[0;32m      2\u001b[0m \u001b[38;5;250m    \u001b[39m\u001b[38;5;124;03m\"\"\"SELECT DISTINCT ?aname ?bname\u001b[39;00m\n\u001b[0;32m      3\u001b[0m \u001b[38;5;124;03m       WHERE {\u001b[39;00m\n\u001b[0;32m      4\u001b[0m \u001b[38;5;124;03m          ?a fhkb:isUncleOf ?b .\u001b[39;00m\n\u001b[0;32m      5\u001b[0m \u001b[38;5;124;03m          ?a rdfs:label ?aname .\u001b[39;00m\n\u001b[0;32m      6\u001b[0m \u001b[38;5;124;03m          ?b rdfs:label ?bname .\u001b[39;00m\n\u001b[0;32m      7\u001b[0m \u001b[38;5;124;03m       }\"\"\"\u001b[39;00m)\n\u001b[0;32m      9\u001b[0m \u001b[38;5;28;01mfor\u001b[39;00m row \u001b[38;5;129;01min\u001b[39;00m qres:\n\u001b[0;32m     10\u001b[0m     \u001b[38;5;28mprint\u001b[39m(\u001b[38;5;124m\"\u001b[39m\u001b[38;5;132;01m%s\u001b[39;00m\u001b[38;5;124m is uncle of \u001b[39m\u001b[38;5;132;01m%s\u001b[39;00m\u001b[38;5;124m\"\u001b[39m \u001b[38;5;241m%\u001b[39m row)\n",
            "File \u001b[1;32mc:\\Users\\nakam\\miniconda3\\envs\\ai4beg\\Lib\\site-packages\\rdflib\\graph.py:1621\u001b[0m, in \u001b[0;36mGraph.query\u001b[1;34m(self, query_object, processor, result, initNs, initBindings, use_store_provided, **kwargs)\u001b[0m\n\u001b[0;32m   1618\u001b[0m     processor \u001b[38;5;241m=\u001b[39m plugin\u001b[38;5;241m.\u001b[39mget(processor, query\u001b[38;5;241m.\u001b[39mProcessor)(\u001b[38;5;28mself\u001b[39m)\n\u001b[0;32m   1620\u001b[0m \u001b[38;5;66;03m# type error: Argument 1 to \"Result\" has incompatible type \"Mapping[str, Any]\"; expected \"str\"\u001b[39;00m\n\u001b[1;32m-> 1621\u001b[0m \u001b[38;5;28;01mreturn\u001b[39;00m result(processor\u001b[38;5;241m.\u001b[39mquery(query_object, initBindings, initNs, \u001b[38;5;241m*\u001b[39m\u001b[38;5;241m*\u001b[39mkwargs))\n",
            "File \u001b[1;32mc:\\Users\\nakam\\miniconda3\\envs\\ai4beg\\Lib\\site-packages\\rdflib\\plugins\\sparql\\processor.py:145\u001b[0m, in \u001b[0;36mSPARQLProcessor.query\u001b[1;34m(self, strOrQuery, initBindings, initNs, base, DEBUG)\u001b[0m\n\u001b[0;32m    125\u001b[0m \u001b[38;5;250m\u001b[39m\u001b[38;5;124;03m\"\"\"\u001b[39;00m\n\u001b[0;32m    126\u001b[0m \u001b[38;5;124;03mEvaluate a query with the given initial bindings, and initial\u001b[39;00m\n\u001b[0;32m    127\u001b[0m \u001b[38;5;124;03mnamespaces. The given base is used to resolve relative URIs in\u001b[39;00m\n\u001b[1;32m   (...)\u001b[0m\n\u001b[0;32m    141\u001b[0m \u001b[38;5;124;03m   documentation.\u001b[39;00m\n\u001b[0;32m    142\u001b[0m \u001b[38;5;124;03m\"\"\"\u001b[39;00m\n\u001b[0;32m    144\u001b[0m \u001b[38;5;28;01mif\u001b[39;00m \u001b[38;5;28misinstance\u001b[39m(strOrQuery, \u001b[38;5;28mstr\u001b[39m):\n\u001b[1;32m--> 145\u001b[0m     strOrQuery \u001b[38;5;241m=\u001b[39m translateQuery(parseQuery(strOrQuery), base, initNs)\n\u001b[0;32m    147\u001b[0m \u001b[38;5;28;01mreturn\u001b[39;00m evalQuery(\u001b[38;5;28mself\u001b[39m\u001b[38;5;241m.\u001b[39mgraph, strOrQuery, initBindings, base)\n",
            "File \u001b[1;32mc:\\Users\\nakam\\miniconda3\\envs\\ai4beg\\Lib\\site-packages\\rdflib\\plugins\\sparql\\algebra.py:933\u001b[0m, in \u001b[0;36mtranslateQuery\u001b[1;34m(q, base, initNs)\u001b[0m\n\u001b[0;32m    930\u001b[0m prologue \u001b[38;5;241m=\u001b[39m translatePrologue(q[\u001b[38;5;241m0\u001b[39m], base, initNs)\n\u001b[0;32m    932\u001b[0m \u001b[38;5;66;03m# absolutize/resolve prefixes\u001b[39;00m\n\u001b[1;32m--> 933\u001b[0m q[\u001b[38;5;241m1\u001b[39m] \u001b[38;5;241m=\u001b[39m traverse(\n\u001b[0;32m    934\u001b[0m     q[\u001b[38;5;241m1\u001b[39m], visitPost\u001b[38;5;241m=\u001b[39mfunctools\u001b[38;5;241m.\u001b[39mpartial(translatePName, prologue\u001b[38;5;241m=\u001b[39mprologue)\n\u001b[0;32m    935\u001b[0m )\n\u001b[0;32m    937\u001b[0m P, PV \u001b[38;5;241m=\u001b[39m translate(q[\u001b[38;5;241m1\u001b[39m])\n\u001b[0;32m    938\u001b[0m datasetClause \u001b[38;5;241m=\u001b[39m q[\u001b[38;5;241m1\u001b[39m]\u001b[38;5;241m.\u001b[39mdatasetClause\n",
            "File \u001b[1;32mc:\\Users\\nakam\\miniconda3\\envs\\ai4beg\\Lib\\site-packages\\rdflib\\plugins\\sparql\\algebra.py:468\u001b[0m, in \u001b[0;36mtraverse\u001b[1;34m(tree, visitPre, visitPost, complete)\u001b[0m\n\u001b[0;32m    461\u001b[0m \u001b[38;5;250m\u001b[39m\u001b[38;5;124;03m\"\"\"\u001b[39;00m\n\u001b[0;32m    462\u001b[0m \u001b[38;5;124;03mTraverse tree, visit each node with visit function\u001b[39;00m\n\u001b[0;32m    463\u001b[0m \u001b[38;5;124;03mvisit function may raise StopTraversal to stop traversal\u001b[39;00m\n\u001b[0;32m    464\u001b[0m \u001b[38;5;124;03mif complete!=None, it is returned on complete traversal,\u001b[39;00m\n\u001b[0;32m    465\u001b[0m \u001b[38;5;124;03motherwise the transformed tree is returned\u001b[39;00m\n\u001b[0;32m    466\u001b[0m \u001b[38;5;124;03m\"\"\"\u001b[39;00m\n\u001b[0;32m    467\u001b[0m \u001b[38;5;28;01mtry\u001b[39;00m:\n\u001b[1;32m--> 468\u001b[0m     r \u001b[38;5;241m=\u001b[39m _traverse(tree, visitPre, visitPost)\n\u001b[0;32m    469\u001b[0m     \u001b[38;5;28;01mif\u001b[39;00m complete \u001b[38;5;129;01mis\u001b[39;00m \u001b[38;5;129;01mnot\u001b[39;00m \u001b[38;5;28;01mNone\u001b[39;00m:\n\u001b[0;32m    470\u001b[0m         \u001b[38;5;28;01mreturn\u001b[39;00m complete\n",
            "File \u001b[1;32mc:\\Users\\nakam\\miniconda3\\envs\\ai4beg\\Lib\\site-packages\\rdflib\\plugins\\sparql\\algebra.py:427\u001b[0m, in \u001b[0;36m_traverse\u001b[1;34m(e, visitPre, visitPost)\u001b[0m\n\u001b[0;32m    425\u001b[0m \u001b[38;5;28;01melif\u001b[39;00m \u001b[38;5;28misinstance\u001b[39m(e, CompValue):\n\u001b[0;32m    426\u001b[0m     \u001b[38;5;28;01mfor\u001b[39;00m k, val \u001b[38;5;129;01min\u001b[39;00m e\u001b[38;5;241m.\u001b[39mitems():\n\u001b[1;32m--> 427\u001b[0m         e[k] \u001b[38;5;241m=\u001b[39m _traverse(val, visitPre, visitPost)\n\u001b[0;32m    429\u001b[0m _e \u001b[38;5;241m=\u001b[39m visitPost(e)\n\u001b[0;32m    430\u001b[0m \u001b[38;5;28;01mif\u001b[39;00m _e \u001b[38;5;129;01mis\u001b[39;00m \u001b[38;5;129;01mnot\u001b[39;00m \u001b[38;5;28;01mNone\u001b[39;00m:\n",
            "File \u001b[1;32mc:\\Users\\nakam\\miniconda3\\envs\\ai4beg\\Lib\\site-packages\\rdflib\\plugins\\sparql\\algebra.py:427\u001b[0m, in \u001b[0;36m_traverse\u001b[1;34m(e, visitPre, visitPost)\u001b[0m\n\u001b[0;32m    425\u001b[0m \u001b[38;5;28;01melif\u001b[39;00m \u001b[38;5;28misinstance\u001b[39m(e, CompValue):\n\u001b[0;32m    426\u001b[0m     \u001b[38;5;28;01mfor\u001b[39;00m k, val \u001b[38;5;129;01min\u001b[39;00m e\u001b[38;5;241m.\u001b[39mitems():\n\u001b[1;32m--> 427\u001b[0m         e[k] \u001b[38;5;241m=\u001b[39m _traverse(val, visitPre, visitPost)\n\u001b[0;32m    429\u001b[0m _e \u001b[38;5;241m=\u001b[39m visitPost(e)\n\u001b[0;32m    430\u001b[0m \u001b[38;5;28;01mif\u001b[39;00m _e \u001b[38;5;129;01mis\u001b[39;00m \u001b[38;5;129;01mnot\u001b[39;00m \u001b[38;5;28;01mNone\u001b[39;00m:\n",
            "File \u001b[1;32mc:\\Users\\nakam\\miniconda3\\envs\\ai4beg\\Lib\\site-packages\\rdflib\\plugins\\sparql\\algebra.py:421\u001b[0m, in \u001b[0;36m_traverse\u001b[1;34m(e, visitPre, visitPost)\u001b[0m\n\u001b[0;32m    418\u001b[0m     \u001b[38;5;28;01mreturn\u001b[39;00m \u001b[38;5;28;01mNone\u001b[39;00m\n\u001b[0;32m    420\u001b[0m \u001b[38;5;28;01mif\u001b[39;00m \u001b[38;5;28misinstance\u001b[39m(e, (\u001b[38;5;28mlist\u001b[39m, ParseResults)):\n\u001b[1;32m--> 421\u001b[0m     \u001b[38;5;28;01mreturn\u001b[39;00m [_traverse(x, visitPre, visitPost) \u001b[38;5;28;01mfor\u001b[39;00m x \u001b[38;5;129;01min\u001b[39;00m e]\n\u001b[0;32m    422\u001b[0m \u001b[38;5;28;01melif\u001b[39;00m \u001b[38;5;28misinstance\u001b[39m(e, \u001b[38;5;28mtuple\u001b[39m):\n\u001b[0;32m    423\u001b[0m     \u001b[38;5;28;01mreturn\u001b[39;00m \u001b[38;5;28mtuple\u001b[39m([_traverse(x, visitPre, visitPost) \u001b[38;5;28;01mfor\u001b[39;00m x \u001b[38;5;129;01min\u001b[39;00m e])\n",
            "    \u001b[1;31m[... skipping similar frames: _traverse at line 427 (1 times)]\u001b[0m\n",
            "File \u001b[1;32mc:\\Users\\nakam\\miniconda3\\envs\\ai4beg\\Lib\\site-packages\\rdflib\\plugins\\sparql\\algebra.py:421\u001b[0m, in \u001b[0;36m_traverse\u001b[1;34m(e, visitPre, visitPost)\u001b[0m\n\u001b[0;32m    418\u001b[0m     \u001b[38;5;28;01mreturn\u001b[39;00m \u001b[38;5;28;01mNone\u001b[39;00m\n\u001b[0;32m    420\u001b[0m \u001b[38;5;28;01mif\u001b[39;00m \u001b[38;5;28misinstance\u001b[39m(e, (\u001b[38;5;28mlist\u001b[39m, ParseResults)):\n\u001b[1;32m--> 421\u001b[0m     \u001b[38;5;28;01mreturn\u001b[39;00m [_traverse(x, visitPre, visitPost) \u001b[38;5;28;01mfor\u001b[39;00m x \u001b[38;5;129;01min\u001b[39;00m e]\n\u001b[0;32m    422\u001b[0m \u001b[38;5;28;01melif\u001b[39;00m \u001b[38;5;28misinstance\u001b[39m(e, \u001b[38;5;28mtuple\u001b[39m):\n\u001b[0;32m    423\u001b[0m     \u001b[38;5;28;01mreturn\u001b[39;00m \u001b[38;5;28mtuple\u001b[39m([_traverse(x, visitPre, visitPost) \u001b[38;5;28;01mfor\u001b[39;00m x \u001b[38;5;129;01min\u001b[39;00m e])\n",
            "    \u001b[1;31m[... skipping similar frames: _traverse at line 421 (2 times), _traverse at line 427 (2 times)]\u001b[0m\n",
            "File \u001b[1;32mc:\\Users\\nakam\\miniconda3\\envs\\ai4beg\\Lib\\site-packages\\rdflib\\plugins\\sparql\\algebra.py:421\u001b[0m, in \u001b[0;36m_traverse\u001b[1;34m(e, visitPre, visitPost)\u001b[0m\n\u001b[0;32m    418\u001b[0m     \u001b[38;5;28;01mreturn\u001b[39;00m \u001b[38;5;28;01mNone\u001b[39;00m\n\u001b[0;32m    420\u001b[0m \u001b[38;5;28;01mif\u001b[39;00m \u001b[38;5;28misinstance\u001b[39m(e, (\u001b[38;5;28mlist\u001b[39m, ParseResults)):\n\u001b[1;32m--> 421\u001b[0m     \u001b[38;5;28;01mreturn\u001b[39;00m [_traverse(x, visitPre, visitPost) \u001b[38;5;28;01mfor\u001b[39;00m x \u001b[38;5;129;01min\u001b[39;00m e]\n\u001b[0;32m    422\u001b[0m \u001b[38;5;28;01melif\u001b[39;00m \u001b[38;5;28misinstance\u001b[39m(e, \u001b[38;5;28mtuple\u001b[39m):\n\u001b[0;32m    423\u001b[0m     \u001b[38;5;28;01mreturn\u001b[39;00m \u001b[38;5;28mtuple\u001b[39m([_traverse(x, visitPre, visitPost) \u001b[38;5;28;01mfor\u001b[39;00m x \u001b[38;5;129;01min\u001b[39;00m e])\n",
            "File \u001b[1;32mc:\\Users\\nakam\\miniconda3\\envs\\ai4beg\\Lib\\site-packages\\rdflib\\plugins\\sparql\\algebra.py:427\u001b[0m, in \u001b[0;36m_traverse\u001b[1;34m(e, visitPre, visitPost)\u001b[0m\n\u001b[0;32m    425\u001b[0m \u001b[38;5;28;01melif\u001b[39;00m \u001b[38;5;28misinstance\u001b[39m(e, CompValue):\n\u001b[0;32m    426\u001b[0m     \u001b[38;5;28;01mfor\u001b[39;00m k, val \u001b[38;5;129;01min\u001b[39;00m e\u001b[38;5;241m.\u001b[39mitems():\n\u001b[1;32m--> 427\u001b[0m         e[k] \u001b[38;5;241m=\u001b[39m _traverse(val, visitPre, visitPost)\n\u001b[0;32m    429\u001b[0m _e \u001b[38;5;241m=\u001b[39m visitPost(e)\n\u001b[0;32m    430\u001b[0m \u001b[38;5;28;01mif\u001b[39;00m _e \u001b[38;5;129;01mis\u001b[39;00m \u001b[38;5;129;01mnot\u001b[39;00m \u001b[38;5;28;01mNone\u001b[39;00m:\n",
            "File \u001b[1;32mc:\\Users\\nakam\\miniconda3\\envs\\ai4beg\\Lib\\site-packages\\rdflib\\plugins\\sparql\\algebra.py:429\u001b[0m, in \u001b[0;36m_traverse\u001b[1;34m(e, visitPre, visitPost)\u001b[0m\n\u001b[0;32m    426\u001b[0m     \u001b[38;5;28;01mfor\u001b[39;00m k, val \u001b[38;5;129;01min\u001b[39;00m e\u001b[38;5;241m.\u001b[39mitems():\n\u001b[0;32m    427\u001b[0m         e[k] \u001b[38;5;241m=\u001b[39m _traverse(val, visitPre, visitPost)\n\u001b[1;32m--> 429\u001b[0m _e \u001b[38;5;241m=\u001b[39m visitPost(e)\n\u001b[0;32m    430\u001b[0m \u001b[38;5;28;01mif\u001b[39;00m _e \u001b[38;5;129;01mis\u001b[39;00m \u001b[38;5;129;01mnot\u001b[39;00m \u001b[38;5;28;01mNone\u001b[39;00m:\n\u001b[0;32m    431\u001b[0m     \u001b[38;5;28;01mreturn\u001b[39;00m _e\n",
            "File \u001b[1;32mc:\\Users\\nakam\\miniconda3\\envs\\ai4beg\\Lib\\site-packages\\rdflib\\plugins\\sparql\\algebra.py:193\u001b[0m, in \u001b[0;36mtranslatePName\u001b[1;34m(p, prologue)\u001b[0m\n\u001b[0;32m    190\u001b[0m \u001b[38;5;28;01mif\u001b[39;00m \u001b[38;5;28misinstance\u001b[39m(p, CompValue):\n\u001b[0;32m    191\u001b[0m     \u001b[38;5;28;01mif\u001b[39;00m p\u001b[38;5;241m.\u001b[39mname \u001b[38;5;241m==\u001b[39m \u001b[38;5;124m\"\u001b[39m\u001b[38;5;124mpname\u001b[39m\u001b[38;5;124m\"\u001b[39m:\n\u001b[0;32m    192\u001b[0m         \u001b[38;5;66;03m# type error: Incompatible return value type (got \"Union[CompValue, str, None]\", expected \"Optional[Identifier]\")\u001b[39;00m\n\u001b[1;32m--> 193\u001b[0m         \u001b[38;5;28;01mreturn\u001b[39;00m prologue\u001b[38;5;241m.\u001b[39mabsolutize(p)  \u001b[38;5;66;03m# type: ignore[return-value]\u001b[39;00m\n\u001b[0;32m    194\u001b[0m     \u001b[38;5;28;01mif\u001b[39;00m p\u001b[38;5;241m.\u001b[39mname \u001b[38;5;241m==\u001b[39m \u001b[38;5;124m\"\u001b[39m\u001b[38;5;124mliteral\u001b[39m\u001b[38;5;124m\"\u001b[39m:\n\u001b[0;32m    195\u001b[0m         \u001b[38;5;66;03m# type error: Argument \"datatype\" to \"Literal\" has incompatible type \"Union[CompValue, str, None]\"; expected \"Optional[str]\"\u001b[39;00m\n\u001b[0;32m    196\u001b[0m         \u001b[38;5;28;01mreturn\u001b[39;00m Literal(\n\u001b[0;32m    197\u001b[0m             p\u001b[38;5;241m.\u001b[39mstring, lang\u001b[38;5;241m=\u001b[39mp\u001b[38;5;241m.\u001b[39mlang, datatype\u001b[38;5;241m=\u001b[39mprologue\u001b[38;5;241m.\u001b[39mabsolutize(p\u001b[38;5;241m.\u001b[39mdatatype)  \u001b[38;5;66;03m# type: ignore[arg-type]\u001b[39;00m\n\u001b[0;32m    198\u001b[0m         )\n",
            "File \u001b[1;32mc:\\Users\\nakam\\miniconda3\\envs\\ai4beg\\Lib\\site-packages\\rdflib\\plugins\\sparql\\sparql.py:468\u001b[0m, in \u001b[0;36mPrologue.absolutize\u001b[1;34m(self, iri)\u001b[0m\n\u001b[0;32m    466\u001b[0m \u001b[38;5;28;01mif\u001b[39;00m \u001b[38;5;28misinstance\u001b[39m(iri, CompValue):\n\u001b[0;32m    467\u001b[0m     \u001b[38;5;28;01mif\u001b[39;00m iri\u001b[38;5;241m.\u001b[39mname \u001b[38;5;241m==\u001b[39m \u001b[38;5;124m\"\u001b[39m\u001b[38;5;124mpname\u001b[39m\u001b[38;5;124m\"\u001b[39m:\n\u001b[1;32m--> 468\u001b[0m         \u001b[38;5;28;01mreturn\u001b[39;00m \u001b[38;5;28mself\u001b[39m\u001b[38;5;241m.\u001b[39mresolvePName(iri\u001b[38;5;241m.\u001b[39mprefix, iri\u001b[38;5;241m.\u001b[39mlocalname)\n\u001b[0;32m    469\u001b[0m     \u001b[38;5;28;01mif\u001b[39;00m iri\u001b[38;5;241m.\u001b[39mname \u001b[38;5;241m==\u001b[39m \u001b[38;5;124m\"\u001b[39m\u001b[38;5;124mliteral\u001b[39m\u001b[38;5;124m\"\u001b[39m:\n\u001b[0;32m    470\u001b[0m         \u001b[38;5;66;03m# type error: Argument \"datatype\" to \"Literal\" has incompatible type \"Union[CompValue, Identifier, None]\"; expected \"Optional[str]\"\u001b[39;00m\n\u001b[0;32m    471\u001b[0m         \u001b[38;5;28;01mreturn\u001b[39;00m Literal(\n\u001b[0;32m    472\u001b[0m             iri\u001b[38;5;241m.\u001b[39mstring, lang\u001b[38;5;241m=\u001b[39miri\u001b[38;5;241m.\u001b[39mlang, datatype\u001b[38;5;241m=\u001b[39m\u001b[38;5;28mself\u001b[39m\u001b[38;5;241m.\u001b[39mabsolutize(iri\u001b[38;5;241m.\u001b[39mdatatype)  \u001b[38;5;66;03m# type: ignore[arg-type]\u001b[39;00m\n\u001b[0;32m    473\u001b[0m         )\n",
            "File \u001b[1;32mc:\\Users\\nakam\\miniconda3\\envs\\ai4beg\\Lib\\site-packages\\rdflib\\plugins\\sparql\\sparql.py:450\u001b[0m, in \u001b[0;36mPrologue.resolvePName\u001b[1;34m(self, prefix, localname)\u001b[0m\n\u001b[0;32m    448\u001b[0m ns \u001b[38;5;241m=\u001b[39m \u001b[38;5;28mself\u001b[39m\u001b[38;5;241m.\u001b[39mnamespace_manager\u001b[38;5;241m.\u001b[39mstore\u001b[38;5;241m.\u001b[39mnamespace(prefix \u001b[38;5;129;01mor\u001b[39;00m \u001b[38;5;124m\"\u001b[39m\u001b[38;5;124m\"\u001b[39m)\n\u001b[0;32m    449\u001b[0m \u001b[38;5;28;01mif\u001b[39;00m ns \u001b[38;5;129;01mis\u001b[39;00m \u001b[38;5;28;01mNone\u001b[39;00m:\n\u001b[1;32m--> 450\u001b[0m     \u001b[38;5;28;01mraise\u001b[39;00m \u001b[38;5;167;01mException\u001b[39;00m(\u001b[38;5;124m\"\u001b[39m\u001b[38;5;124mUnknown namespace prefix : \u001b[39m\u001b[38;5;132;01m%s\u001b[39;00m\u001b[38;5;124m\"\u001b[39m \u001b[38;5;241m%\u001b[39m prefix)\n\u001b[0;32m    451\u001b[0m \u001b[38;5;28;01mreturn\u001b[39;00m URIRef(ns \u001b[38;5;241m+\u001b[39m (localname \u001b[38;5;129;01mor\u001b[39;00m \u001b[38;5;124m\"\u001b[39m\u001b[38;5;124m\"\u001b[39m))\n",
            "\u001b[1;31mException\u001b[0m: Unknown namespace prefix : fhkb"
          ]
        }
      ],
      "source": [
        "qres = g.query(\n",
        "    \"\"\"SELECT DISTINCT ?aname ?bname\n",
        "       WHERE {\n",
        "          ?a fhkb:isUncleOf ?b .\n",
        "          ?a rdfs:label ?aname .\n",
        "          ?b rdfs:label ?bname .\n",
        "       }\"\"\")\n",
        "\n",
        "for row in qres:\n",
        "    print(\"%s is uncle of %s\" % row)"
      ]
    },
    {
      "cell_type": "markdown",
      "metadata": {},
      "source": [
        "Feel free to experiment with different other family relations. For example, you can have a look at `isAncestorOf` relation, which recurrently defines all ancestors of a given person.\n",
        "\n",
        "Finally, let's clean up!"
      ]
    },
    {
      "cell_type": "code",
      "execution_count": 28,
      "metadata": {
        "trusted": true
      },
      "outputs": [
        {
          "name": "stderr",
          "output_type": "stream",
          "text": [
            "'rm' �́A�����R�}���h�܂��͊O���R�}���h�A\n",
            "����\\�ȃv���O�����܂��̓o�b�` �t�@�C���Ƃ��ĔF������Ă��܂���B\n"
          ]
        }
      ],
      "source": [
        "!rm onto.ttl"
      ]
    },
    {
      "cell_type": "code",
      "execution_count": null,
      "metadata": {},
      "outputs": [],
      "source": []
    }
  ],
  "metadata": {
    "kernelspec": {
      "display_name": "ai4beg",
      "language": "python",
      "name": "python3"
    },
    "language_info": {
      "codemirror_mode": {
        "name": "ipython",
        "version": 3
      },
      "file_extension": ".py",
      "mimetype": "text/x-python",
      "name": "python",
      "nbconvert_exporter": "python",
      "pygments_lexer": "ipython3",
      "version": "3.12.8"
    }
  },
  "nbformat": 4,
  "nbformat_minor": 2
}
