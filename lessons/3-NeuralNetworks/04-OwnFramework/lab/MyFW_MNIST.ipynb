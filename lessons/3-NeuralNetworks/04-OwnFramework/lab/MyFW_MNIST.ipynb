{
 "cells": [
  {
   "cell_type": "markdown",
   "metadata": {},
   "source": [
    "# MNIST Digit Classification with our own Framework\n",
    "\n",
    "Lab Assignment from [AI for Beginners Curriculum](https://github.com/microsoft/ai-for-beginners).\n",
    "\n",
    "### Reading the Dataset\n",
    "\n",
    "This code download the dataset from the repository on the internet. You can also manually copy the dataset from `/data` directory of AI Curriculum repo."
   ]
  },
  {
   "cell_type": "code",
   "execution_count": 1,
   "metadata": {
    "tags": []
   },
   "outputs": [],
   "source": [
    "import pylab\n",
    "from matplotlib import gridspec\n",
    "from sklearn.datasets import make_classification\n",
    "import numpy as np\n",
    "from ipywidgets import interact, interactive, fixed\n",
    "import ipywidgets as widgets\n",
    "import pickle\n",
    "import os\n",
    "import gzip\n",
    "#!rm *.pkl\n",
    "#!wget https://raw.githubusercontent.com/microsoft/AI-For-Beginners/main/data/mnist.pkl.gz\n",
    "#!gzip -d mnist.pkl.gz\n",
    "file_path = r'c:\\Users\\nakam\\Downloads\\mnist.pkl.gz'  # Use raw string (r'...')\n",
    "with gzip.open(file_path, 'rb') as mnist_pickle:\n",
    "    mnist_tuple= pickle.load(mnist_pickle, encoding='latin1')\n",
    "MNIST = {\n",
    "    'Train': {'Features': mnist_tuple[0][0], 'Labels': mnist_tuple[0][1]},\n",
    "    'Valid': {'Features': mnist_tuple[1][0], 'Labels': mnist_tuple[1][1]},\n",
    "    'Test': {'Features': mnist_tuple[2][0], 'Labels': mnist_tuple[2][1]},\n",
    "}\n"
   ]
  },
  {
   "cell_type": "code",
   "execution_count": 2,
   "metadata": {},
   "outputs": [],
   "source": [
    "#import pickle\n",
    "#with open('mnist.pkl','rb') as f:\n",
    "#    MNIST = pickle.load(f)"
   ]
  },
  {
   "cell_type": "code",
   "execution_count": 3,
   "metadata": {},
   "outputs": [],
   "source": [
    "labels = MNIST['Train']['Labels']\n",
    "data = MNIST['Train']['Features']"
   ]
  },
  {
   "cell_type": "markdown",
   "metadata": {},
   "source": [
    "Let's see what is the shape of data that we have:"
   ]
  },
  {
   "cell_type": "code",
   "execution_count": 4,
   "metadata": {},
   "outputs": [
    {
     "data": {
      "text/plain": [
       "(50000, 784)"
      ]
     },
     "execution_count": 4,
     "metadata": {},
     "output_type": "execute_result"
    }
   ],
   "source": [
    "data.shape"
   ]
  },
  {
   "cell_type": "markdown",
   "metadata": {},
   "source": [
    "### Splitting the Data\n",
    "\n",
    "We will use Scikit Learn to split the data between training and test dataset:"
   ]
  },
  {
   "cell_type": "code",
   "execution_count": 5,
   "metadata": {},
   "outputs": [
    {
     "name": "stdout",
     "output_type": "stream",
     "text": [
      "Train samples: 40000, test samples: 10000\n"
     ]
    }
   ],
   "source": [
    "from sklearn.model_selection import train_test_split\n",
    "\n",
    "features_train, features_test, labels_train, labels_test = train_test_split(data,labels,test_size=0.2)\n",
    "\n",
    "print(f\"Train samples: {len(features_train)}, test samples: {len(features_test)}\")"
   ]
  },
  {
   "cell_type": "code",
   "execution_count": 20,
   "metadata": {},
   "outputs": [
    {
     "ename": "ValueError",
     "evalue": "shapes (40000,784) and (78,128) not aligned: 784 (dim 1) != 78 (dim 0)",
     "output_type": "error",
     "traceback": [
      "\u001b[1;31m---------------------------------------------------------------------------\u001b[0m",
      "\u001b[1;31mValueError\u001b[0m                                Traceback (most recent call last)",
      "Cell \u001b[1;32mIn[20], line 108\u001b[0m\n\u001b[0;32m    105\u001b[0m     acc \u001b[38;5;241m=\u001b[39m (pred\u001b[38;5;241m==\u001b[39my)\u001b[38;5;241m.\u001b[39mmean()\n\u001b[0;32m    106\u001b[0m     \u001b[38;5;28;01mreturn\u001b[39;00m l,acc\n\u001b[1;32m--> 108\u001b[0m \u001b[38;5;28mprint\u001b[39m(\u001b[38;5;124m\"\u001b[39m\u001b[38;5;124mInitial loss=\u001b[39m\u001b[38;5;132;01m{}\u001b[39;00m\u001b[38;5;124m, accuracy=\u001b[39m\u001b[38;5;132;01m{}\u001b[39;00m\u001b[38;5;124m: \u001b[39m\u001b[38;5;124m\"\u001b[39m\u001b[38;5;241m.\u001b[39mformat(\u001b[38;5;241m*\u001b[39mget_loss_acc(features_train,labels_train)))\n\u001b[0;32m    110\u001b[0m max_weight_abs_history \u001b[38;5;241m=\u001b[39m []\n\u001b[0;32m    112\u001b[0m \u001b[38;5;28;01mdef\u001b[39;00m \u001b[38;5;21mtrain_epoch\u001b[39m(net, train_x, train_labels, loss\u001b[38;5;241m=\u001b[39mCrossEntropyLoss(), batch_size\u001b[38;5;241m=\u001b[39m\u001b[38;5;241m4\u001b[39m, lr\u001b[38;5;241m=\u001b[39m\u001b[38;5;241m0.1\u001b[39m):\n",
      "Cell \u001b[1;32mIn[20], line 102\u001b[0m, in \u001b[0;36mget_loss_acc\u001b[1;34m(x, y, loss)\u001b[0m\n\u001b[0;32m    101\u001b[0m \u001b[38;5;28;01mdef\u001b[39;00m \u001b[38;5;21mget_loss_acc\u001b[39m(x,y,loss\u001b[38;5;241m=\u001b[39mCrossEntropyLoss()):\n\u001b[1;32m--> 102\u001b[0m     p \u001b[38;5;241m=\u001b[39m net\u001b[38;5;241m.\u001b[39mforward(x)\n\u001b[0;32m    103\u001b[0m     l \u001b[38;5;241m=\u001b[39m loss\u001b[38;5;241m.\u001b[39mforward(p,y)\n\u001b[0;32m    104\u001b[0m     pred \u001b[38;5;241m=\u001b[39m np\u001b[38;5;241m.\u001b[39margmax(p,axis\u001b[38;5;241m=\u001b[39m\u001b[38;5;241m1\u001b[39m)\n",
      "Cell \u001b[1;32mIn[20], line 58\u001b[0m, in \u001b[0;36mNet.forward\u001b[1;34m(self, x)\u001b[0m\n\u001b[0;32m     56\u001b[0m \u001b[38;5;28;01mdef\u001b[39;00m \u001b[38;5;21mforward\u001b[39m(\u001b[38;5;28mself\u001b[39m,x):\n\u001b[0;32m     57\u001b[0m     \u001b[38;5;28;01mfor\u001b[39;00m l \u001b[38;5;129;01min\u001b[39;00m \u001b[38;5;28mself\u001b[39m\u001b[38;5;241m.\u001b[39mlayers:\n\u001b[1;32m---> 58\u001b[0m         x \u001b[38;5;241m=\u001b[39m l\u001b[38;5;241m.\u001b[39mforward(x)\n\u001b[0;32m     59\u001b[0m     \u001b[38;5;28;01mreturn\u001b[39;00m x\n",
      "Cell \u001b[1;32mIn[20], line 11\u001b[0m, in \u001b[0;36mLinear.forward\u001b[1;34m(self, x)\u001b[0m\n\u001b[0;32m      9\u001b[0m \u001b[38;5;28;01mdef\u001b[39;00m \u001b[38;5;21mforward\u001b[39m(\u001b[38;5;28mself\u001b[39m, x):\n\u001b[0;32m     10\u001b[0m     \u001b[38;5;28mself\u001b[39m\u001b[38;5;241m.\u001b[39mx\u001b[38;5;241m=\u001b[39mx\n\u001b[1;32m---> 11\u001b[0m     \u001b[38;5;28;01mreturn\u001b[39;00m np\u001b[38;5;241m.\u001b[39mdot(x, \u001b[38;5;28mself\u001b[39m\u001b[38;5;241m.\u001b[39mW\u001b[38;5;241m.\u001b[39mT) \u001b[38;5;241m+\u001b[39m \u001b[38;5;28mself\u001b[39m\u001b[38;5;241m.\u001b[39mb\n",
      "\u001b[1;31mValueError\u001b[0m: shapes (40000,784) and (78,128) not aligned: 784 (dim 1) != 78 (dim 0)"
     ]
    }
   ],
   "source": [
    "import matplotlib.pyplot as plt\n",
    "class Linear:\n",
    "    def __init__(self,nin,nout):\n",
    "        self.W = np.random.normal(0, 1.0/np.sqrt(nin), (nout, nin))\n",
    "        self.b = np.zeros((1,nout))\n",
    "        self.dW = np.zeros_like(self.W)\n",
    "        self.db = np.zeros_like(self.b)\n",
    "        \n",
    "    def forward(self, x):\n",
    "        self.x=x\n",
    "        return np.dot(x, self.W.T) + self.b\n",
    "    \n",
    "    def backward(self, dz):\n",
    "        dx = np.dot(dz, self.W)\n",
    "        dW = np.dot(dz.T, self.x)\n",
    "        db = dz.sum(axis=0)\n",
    "        self.dW = dW\n",
    "        self.db = db\n",
    "        return dx\n",
    "    \n",
    "    def update(self,lr):\n",
    "        self.W -= lr*self.dW\n",
    "        self.b -= lr*self.db\n",
    "\n",
    "class Softmax:\n",
    "    def forward(self,z):\n",
    "        self.z = z\n",
    "        zmax = z.max(axis=1,keepdims=True)\n",
    "        expz = np.exp(z-zmax)\n",
    "        Z = expz.sum(axis=1,keepdims=True)\n",
    "        return expz / Z\n",
    "    def backward(self,dp):\n",
    "        p = self.forward(self.z)\n",
    "        pdp = p * dp\n",
    "        return pdp - p * pdp.sum(axis=1, keepdims=True)\n",
    "    \n",
    "class CrossEntropyLoss:\n",
    "    def forward(self,p,y):\n",
    "        self.p = p\n",
    "        self.y = y\n",
    "        p_of_y = p[np.arange(len(y)), y]\n",
    "        log_prob = np.log(p_of_y)\n",
    "        return -log_prob.mean()\n",
    "    def backward(self,loss):\n",
    "        dlog_softmax = np.zeros_like(self.p)\n",
    "        dlog_softmax[np.arange(len(self.y)), self.y] -= 1.0/len(self.y)\n",
    "        return dlog_softmax / self.p\n",
    "    \n",
    "class Net:\n",
    "    def __init__(self):\n",
    "        self.layers = []\n",
    "    \n",
    "    def add(self,l):\n",
    "        self.layers.append(l)\n",
    "        \n",
    "    def forward(self,x):\n",
    "        for l in self.layers:\n",
    "            x = l.forward(x)\n",
    "        return x\n",
    "    \n",
    "    def backward(self,z):\n",
    "        for l in self.layers[::-1]:\n",
    "            z = l.backward(z)\n",
    "        return z\n",
    "    \n",
    "    def update(self,lr):\n",
    "        for l in self.layers:\n",
    "            if 'update' in l.__dir__():\n",
    "                l.update(lr)\n",
    "    def get_max_weight_abs(self):\n",
    "        # Track max absolute value of weights in the network\n",
    "        max_abs = 0\n",
    "        for layer in self.layers:\n",
    "            if isinstance(layer, Linear):\n",
    "                max_abs = max(max_abs, np.max(np.abs(layer.W)))\n",
    "        return max_abs\n",
    "\n",
    "class Tanh:\n",
    "    def forward(self,x):\n",
    "        y = np.tanh(x)\n",
    "        self.y = y\n",
    "        return y\n",
    "    def backward(self,dy):\n",
    "        return (1.0-self.y**2)*dy\n",
    "\n",
    "class Sinh:\n",
    "    def forward(self, x):\n",
    "        self.y = np.sinh(x)  # Apply sinh function element-wise\n",
    "        return self.y\n",
    "    \n",
    "    def backward(self, dy):\n",
    "        return (1.0 - self.y**2) * dy  # Derivative of sinh(x) is 1 - sinh^2(x)\n",
    "\n",
    "# Define the network\n",
    "net = Net()\n",
    "net.add(Linear(784, 128))   # First Linear layer: 784 -> 128 neurons\n",
    "net.add(Tanh())              # Sinh activation function\n",
    "net.add(Linear(128, 10))    # Second Linear layer: 128 -> 64 neurons\n",
    "net.add(Softmax())          # Softmax activation functio\n",
    "\n",
    "def get_loss_acc(x,y,loss=CrossEntropyLoss()):\n",
    "    p = net.forward(x)\n",
    "    l = loss.forward(p,y)\n",
    "    pred = np.argmax(p,axis=1)\n",
    "    acc = (pred==y).mean()\n",
    "    return l,acc\n",
    "\n",
    "print(\"Initial loss={}, accuracy={}: \".format(*get_loss_acc(features_train,labels_train)))\n",
    "\n",
    "max_weight_abs_history = []\n",
    "\n",
    "def train_epoch(net, train_x, train_labels, loss=CrossEntropyLoss(), batch_size=4, lr=0.1):\n",
    "    for i in range(0,len(train_x),batch_size):\n",
    "        xb = train_x[i:i+batch_size]\n",
    "        yb = train_labels[i:i+batch_size]\n",
    "\n",
    "        p = net.forward(xb)\n",
    "        l = loss.forward(p,yb)\n",
    "        dp = loss.backward(l)\n",
    "        dx = net.backward(dp)\n",
    "        net.update(lr)\n",
    "    # Track max absolute weight value after each epoch\n",
    "    max_weight_abs = net.get_max_weight_abs()\n",
    "    max_weight_abs_history.append(max_weight_abs)\n",
    " \n",
    "#train_epoch(net,features_train,labels_train)\n",
    "        \n",
    "print(\"Final loss={}, accuracy={}: \".format(*get_loss_acc(features_train,labels_train)))\n",
    "print(\"Test loss={}, accuracy={}: \".format(*get_loss_acc(features_test,labels_test)))\n",
    "\n",
    "epochs = 10\n",
    "for epoch in range(epochs):\n",
    "    train_epoch(net, features_train, labels_train)\n",
    "    \n",
    "    # Optionally print or track loss/accuracy\n",
    "    if epoch % 10 == 0:\n",
    "        train_loss, train_acc = get_loss_acc(features_train, labels_train)\n",
    "        print(f\"Epoch {epoch}, Loss: {train_loss}, Accuracy: {train_acc}\")\n",
    "\n",
    "# Plot max absolute weight values vs. epoch number\n",
    "plt.plot(range(epochs), max_weight_abs_history)\n",
    "plt.xlabel('Epoch')\n",
    "plt.ylabel('Max Abs Value of Weights')\n",
    "plt.title('Max Absolute Value of Weights vs. Epoch')\n",
    "plt.show()"
   ]
  },
  {
   "cell_type": "markdown",
   "metadata": {},
   "source": [
    "### Instructions\n",
    "\n",
    "1. Take the framework code from the lesson and paste it into this notebook, or (even better) into a separate Python module\n",
    "1. Define and train one-layered perceptron, observing training and validation accuracy during training\n",
    "1. Try to understand if overfitting took place, and adjust layer parameters to improve accuracy\n",
    "1. Repeat previous steps for 2- and 3-layered perceptrons. Try to experiment with different activation functions between layers.\n",
    "1. Try to answer the following questions:\n",
    "    - Does the inter-layer activation function affect network performance?\n",
    "    - Do we need 2- or 3-layered network for this task?\n",
    "    - Did you experience any problems training the network? Especially as the number of layers increased.\n",
    "    - How do weights of the network behave during training? You may plot max abs value of weights vs. epoch to understand the relation."
   ]
  },
  {
   "cell_type": "code",
   "execution_count": null,
   "metadata": {},
   "outputs": [],
   "source": []
  }
 ],
 "metadata": {
  "kernelspec": {
   "display_name": "ai4beg",
   "language": "python",
   "name": "python3"
  },
  "language_info": {
   "codemirror_mode": {
    "name": "ipython",
    "version": 3
   },
   "file_extension": ".py",
   "mimetype": "text/x-python",
   "name": "python",
   "nbconvert_exporter": "python",
   "pygments_lexer": "ipython3",
   "version": "3.12.8"
  },
  "orig_nbformat": 2
 },
 "nbformat": 4,
 "nbformat_minor": 2
}
