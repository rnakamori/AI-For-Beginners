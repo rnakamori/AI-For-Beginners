{
 "cells": [
  {
   "cell_type": "markdown",
   "metadata": {},
   "source": [
    "## Assignment: Diophantine Equations\n",
    "\n",
    "> This assignment is part of [AI for Beginners Curriculum](http://github.com/microsoft/ai-for-beginners) and is inspired by [this post](https://habr.com/post/128704/).\n",
    "\n",
    "Your goal is to solve so-called **Diophantine equation** - an equation with integer roots and integer coefficients. For example, consider the following equation:\n",
    "\n",
    "$$a+2b+3c+4d=30$$\n",
    "\n",
    "You need to find integer roots $a$,$b$,$c$,$d\\in\\mathbb{N}$ that satisfy this equation.\n",
    "\n",
    "Hints:\n",
    "1. You can consider roots to be in the interval [0;30]\n",
    "1. As a gene, consider using the list of root values"
   ]
  },
  {
   "cell_type": "code",
   "execution_count": 42,
   "metadata": {},
   "outputs": [],
   "source": [
    "import random\n",
    "import matplotlib.pyplot as plt\n",
    "import numpy as np\n",
    "import math\n",
    "import time"
   ]
  },
  {
   "cell_type": "code",
   "execution_count": 43,
   "metadata": {},
   "outputs": [],
   "source": [
    "def generate():\n",
    "    return np.array([random.randint(0, 31) for _ in range(4)])"
   ]
  },
  {
   "cell_type": "code",
   "execution_count": 44,
   "metadata": {},
   "outputs": [
    {
     "name": "stdout",
     "output_type": "stream",
     "text": [
      "[array([22, 10,  0, 15]), array([ 4,  8, 27,  8]), array([22, 19, 23,  0]), array([15,  3,  0,  8]), array([ 7,  4, 25, 10]), array([24, 10,  9, 17]), array([19, 11, 28, 30]), array([ 4,  1, 23,  4]), array([31, 21, 18, 14]), array([18, 17, 18,  4]), array([30, 22, 11, 23]), array([12, 27, 27, 19]), array([ 9, 20, 15, 23]), array([22, 28, 12, 17]), array([ 7, 16, 15,  8]), array([24, 30, 23, 31]), array([21, 16, 10,  6]), array([27, 30,  2, 29]), array([31, 25, 25,  8]), array([ 4, 24, 23, 30]), array([16,  0, 25,  8]), array([ 6,  0,  5, 29]), array([11, 30,  2, 14]), array([ 9, 16,  3,  2]), array([ 1, 25, 28, 22]), array([23, 14,  6, 31]), array([20, 27, 15, 13]), array([20,  0, 29, 15]), array([12, 16, 14, 31]), array([ 5, 11, 28, 29])]\n"
     ]
    }
   ],
   "source": [
    "pop_size = 30\n",
    "P = [generate() for _ in range(pop_size)]\n",
    "print(P)"
   ]
  },
  {
   "cell_type": "code",
   "execution_count": 45,
   "metadata": {},
   "outputs": [],
   "source": [
    "def mutate(b):\n",
    "    x = b.copy()\n",
    "    i = random.randint(0,len(b)-1)\n",
    "    x[i] = 30-x[i]\n",
    "    return x\n",
    "\n",
    "def xover(G1,G2):\n",
    "    x=random.randint(0,len(G1))\n",
    "    return np.concatenate((G1[:x],G2[x:]))"
   ]
  },
  {
   "cell_type": "code",
   "execution_count": 46,
   "metadata": {},
   "outputs": [],
   "source": [
    "def fit(B):\n",
    "    a = np.array([1,2,3,4])\n",
    "    return abs(a.T @ B - 30)"
   ]
  },
  {
   "cell_type": "code",
   "execution_count": 47,
   "metadata": {},
   "outputs": [
    {
     "name": "stdout",
     "output_type": "stream",
     "text": [
      "[4 1 0 6] 0\n"
     ]
    }
   ],
   "source": [
    "def evolve(P,n=1000):\n",
    "    res = []\n",
    "    for _ in range(n):\n",
    "        f = min([fit(b) for b in P])\n",
    "        res.append(f)\n",
    "        if f==0:\n",
    "            break\n",
    "        if random.randint(1,10)<3:\n",
    "            i = random.randint(0,len(P)-1)\n",
    "            b = mutate(P[i])\n",
    "            i = np.argmax([fit(z) for z in P])\n",
    "            P[i] = b\n",
    "        else:\n",
    "            i = random.randint(0,len(P)-1)\n",
    "            j = random.randint(0,len(P)-1)\n",
    "            b = xover(P[i],P[j])\n",
    "            if fit(b)<fit(P[i]):\n",
    "                P[i]=b\n",
    "            elif fit(b)<fit(P[j]):\n",
    "                P[j]=b\n",
    "            else:\n",
    "                pass\n",
    "    i = np.argmin([fit(b) for b in P])\n",
    "    return (P[i],res)\n",
    "\n",
    "(s,hist) = evolve(P)\n",
    "print(s,fit(s))"
   ]
  },
  {
   "cell_type": "markdown",
   "metadata": {},
   "source": []
  }
 ],
 "metadata": {
  "kernelspec": {
   "display_name": "ai4beg",
   "language": "python",
   "name": "python3"
  },
  "language_info": {
   "codemirror_mode": {
    "name": "ipython",
    "version": 3
   },
   "file_extension": ".py",
   "mimetype": "text/x-python",
   "name": "python",
   "nbconvert_exporter": "python",
   "pygments_lexer": "ipython3",
   "version": "3.12.8"
  },
  "orig_nbformat": 4
 },
 "nbformat": 4,
 "nbformat_minor": 2
}
